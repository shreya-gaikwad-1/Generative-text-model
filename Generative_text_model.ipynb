{
  "nbformat": 4,
  "nbformat_minor": 0,
  "metadata": {
    "colab": {
      "provenance": [],
      "gpuType": "T4",
      "authorship_tag": "ABX9TyOaHAtEwN8ta0kWs5dgMv9a",
      "include_colab_link": true
    },
    "kernelspec": {
      "name": "python3",
      "display_name": "Python 3"
    },
    "language_info": {
      "name": "python"
    },
    "accelerator": "GPU"
  },
  "cells": [
    {
      "cell_type": "markdown",
      "metadata": {
        "id": "view-in-github",
        "colab_type": "text"
      },
      "source": [
        "<a href=\"https://colab.research.google.com/github/shreya-gaikwad-1/Generative-text-model/blob/main/Generative_text_model.ipynb\" target=\"_parent\"><img src=\"https://colab.research.google.com/assets/colab-badge.svg\" alt=\"Open In Colab\"/></a>"
      ]
    },
    {
      "cell_type": "code",
      "execution_count": null,
      "metadata": {
        "id": "qMlGM9IWqPx6"
      },
      "outputs": [],
      "source": [
        "# Install Gradio for creating a web UI and Hugging Face Transformers (latest version from GitHub)\n",
        "!pip install -q gradio\n",
        "!pip install -q git+https://github.com/huggingface/transformers.git"
      ]
    },
    {
      "cell_type": "code",
      "source": [
        "# Import necessary libraries\n",
        "import gradio as gr # Gradio is used to create the web-based interface\n",
        "import tensorflow as tf # TensorFlow is used to work with the GPT-2 model\n",
        "from transformers import TFGPT2LMHeadModel, GPT2Tokenizer  # Import GPT-2 model and tokenizer from Hugging Face\n"
      ],
      "metadata": {
        "id": "SFaxR-PIs1O-"
      },
      "execution_count": null,
      "outputs": []
    },
    {
      "cell_type": "code",
      "source": [
        "# Load the pre-trained GPT-2 tokenizer\n",
        "tokenizer = GPT2Tokenizer.from_pretrained(\"gpt2\")\n",
        "\n",
        "# Load the pre-trained GPT-2 model with TensorFlow (TF version)\n",
        "# Set the padding token to end-of-sequence token to avoid warnings\n",
        "model = TFGPT2LMHeadModel.from_pretrained(\"gpt2\", pad_token_id=tokenizer.eos_token_id)"
      ],
      "metadata": {
        "id": "KTBvmupot5AF"
      },
      "execution_count": null,
      "outputs": []
    },
    {
      "cell_type": "code",
      "source": [
        "# Define a function that generates text from a given prompt\n",
        "def generate_text(inp):\n",
        "  # Encode the input prompt into token IDs (Tensor format for TensorFlow)\n",
        "  input_ids = tokenizer.encode(inp, return_tensors=\"tf\")\n",
        "\n",
        "  # Generate output text using beam search decoding\n",
        "  beam_output = model.generate(input_ids, max_length=100,        # Limit output length\n",
        "                               num_beams=5,                      # Use 5 beams for better quality\n",
        "                               no_repeat_ngram_size=2,           # Avoid repeating the same phrase\n",
        "                               early_stopping=True)              # Stop generation when it’s likely complete\n",
        "\n",
        "  # Decode the generated token IDs back into a readable string\n",
        "  output = tokenizer.decode(beam_output[0], skip_special_tokens=True, clean_up_tokenization_spaces=True)\n",
        "\n",
        "  # Return the text with complete sentences only\n",
        "  return \".\".join(output.split(\".\")[:-1]) + \".\""
      ],
      "metadata": {
        "id": "XBQh5tdFvEdz"
      },
      "execution_count": null,
      "outputs": []
    },
    {
      "cell_type": "code",
      "source": [
        "\n",
        "# 🔽 DEMO: Show sample outputs based on user prompts (visible in GitHub)\n",
        "print(\"📝 Prompt 1:\")\n",
        "print(generate_text(\"The future of artificial intelligence is\"))\n",
        "\n",
        "print(\"\\n📝 Prompt 2:\")\n",
        "print(generate_text(\"Once upon a time in a distant galaxy,\"))\n",
        "\n",
        "print(\"\\n📝 Prompt 3:\")\n",
        "print(generate_text(\"Education in the digital age will\"))"
      ],
      "metadata": {
        "colab": {
          "base_uri": "https://localhost:8080/"
        },
        "id": "rqaL787TiYdM",
        "outputId": "e3d664c1-8cad-4dd8-cbb1-77507e5a8482"
      },
      "execution_count": null,
      "outputs": [
        {
          "output_type": "stream",
          "name": "stdout",
          "text": [
            "📝 Prompt 1:\n",
            "The future of artificial intelligence is in the hands of the next generation of scientists and engineers.\n",
            "\n",
            "\"It's a very exciting time to be a part of it,\" he said. \"I think it's going to take a lot of work to get there.\n",
            "\n",
            "📝 Prompt 2:\n",
            "Once upon a time in a distant galaxy, a group of intelligent beings, known as the Guardians of the Galaxy, came together to create a new form of life.\n",
            "\n",
            "The Guardians were the first of their kind to appear in the Marvel Universe. They were created by Captain Marvel and his team of super-villains to protect the galaxy from the forces of evil. However, they were defeated by Thanos, who used them as a weapon to destroy the Avengers.\n",
            "\n",
            "📝 Prompt 3:\n",
            "Education in the digital age will continue to be a challenge.\n",
            "\n",
            "\"We're going to have to do a lot of work to make sure that we're doing the right things,\" he said. \"We've got to find a way to get people to pay attention to what's going on in their lives.\n"
          ]
        }
      ]
    },
    {
      "cell_type": "code",
      "source": [
        "# Create a Gradio textbox for output\n",
        "output_text = gr.Textbox()\n",
        "gr.Interface(\n",
        "    fn=generate_text,                                # Function to call\n",
        "    inputs=gr.Textbox(label=\"Enter a prompt\"),       # Input box for user text\n",
        "    outputs=gr.Textbox(label=\"Generated text\"),      # Output box for generated text\n",
        "    title=\"GPT-2\",                                   # Title shown on the web app\n",
        "    description=\"OpenAI's GPT-2 can generate coherent text. Input a sentence to see how it completes it.\"\n",
        ").launch()\n"
      ],
      "metadata": {
        "id": "oKBcqjCkwTNq"
      },
      "execution_count": null,
      "outputs": []
    }
  ]
}